{
 "cells": [
  {
   "cell_type": "code",
   "execution_count": 45,
   "metadata": {
    "collapsed": true
   },
   "outputs": [],
   "source": [
    "import pandas as pd"
   ]
  },
  {
   "cell_type": "code",
   "execution_count": 121,
   "metadata": {
    "collapsed": false
   },
   "outputs": [],
   "source": [
    "#See http://adif.org/adif.html\n",
    "fields=['OPERATOR','CALL','QSO_DATETIME','U1','U2','U3','FREQ','U4','J1','MODE','J1','J1','J1',\n",
    "        'J1','J1','J1','J1','J1','J1','J1','J1','J1','J1','J1','J1','J1','J1']\n",
    "wantedfields=['OPERATOR','CALL','QSO_DATETIME','FREQ','MODE']\n",
    "\n",
    "#\n",
    "#Read In my OLD MixW log file\n",
    "#\n",
    "mixw=pd.DataFrame.from_csv(\"MixW2.log\",index_col=None,sep=';')\n",
    "mixw.columns=fields\n",
    "wanted=mixw[wantedfields].copy()"
   ]
  },
  {
   "cell_type": "code",
   "execution_count": 122,
   "metadata": {
    "collapsed": false
   },
   "outputs": [
    {
     "data": {
      "text/html": [
       "<div>\n",
       "<table border=\"1\" class=\"dataframe\">\n",
       "  <thead>\n",
       "    <tr style=\"text-align: right;\">\n",
       "      <th></th>\n",
       "      <th>OPERATOR</th>\n",
       "      <th>CALL</th>\n",
       "      <th>QSO_DATETIME</th>\n",
       "      <th>FREQ</th>\n",
       "      <th>MODE</th>\n",
       "    </tr>\n",
       "  </thead>\n",
       "  <tbody>\n",
       "    <tr>\n",
       "      <th>0</th>\n",
       "      <td>A45WG</td>\n",
       "      <td>VU2NXM</td>\n",
       "      <td>20060127180532</td>\n",
       "      <td>7070000</td>\n",
       "      <td>CW</td>\n",
       "    </tr>\n",
       "    <tr>\n",
       "      <th>1</th>\n",
       "      <td>A45WG</td>\n",
       "      <td>UK8UC</td>\n",
       "      <td>20060126114553</td>\n",
       "      <td>18109000</td>\n",
       "      <td>CW</td>\n",
       "    </tr>\n",
       "    <tr>\n",
       "      <th>2</th>\n",
       "      <td>A45WG</td>\n",
       "      <td>AX4AN</td>\n",
       "      <td>20060125144222</td>\n",
       "      <td>14070000</td>\n",
       "      <td>CW</td>\n",
       "    </tr>\n",
       "    <tr>\n",
       "      <th>3</th>\n",
       "      <td>A45WG</td>\n",
       "      <td>3B8FG</td>\n",
       "      <td>20060125135845</td>\n",
       "      <td>14070000</td>\n",
       "      <td>CW</td>\n",
       "    </tr>\n",
       "    <tr>\n",
       "      <th>4</th>\n",
       "      <td>A45WG</td>\n",
       "      <td>6O0N</td>\n",
       "      <td>20060125134852</td>\n",
       "      <td>21070000</td>\n",
       "      <td>CW</td>\n",
       "    </tr>\n",
       "  </tbody>\n",
       "</table>\n",
       "</div>"
      ],
      "text/plain": [
       "  OPERATOR    CALL    QSO_DATETIME      FREQ MODE\n",
       "0    A45WG  VU2NXM  20060127180532   7070000   CW\n",
       "1    A45WG   UK8UC  20060126114553  18109000   CW\n",
       "2    A45WG   AX4AN  20060125144222  14070000   CW\n",
       "3    A45WG   3B8FG  20060125135845  14070000   CW\n",
       "4    A45WG    6O0N  20060125134852  21070000   CW"
      ]
     },
     "execution_count": 122,
     "metadata": {},
     "output_type": "execute_result"
    }
   ],
   "source": [
    "wanted.head()"
   ]
  },
  {
   "cell_type": "code",
   "execution_count": 123,
   "metadata": {
    "collapsed": false
   },
   "outputs": [],
   "source": [
    "#Alter some of the MIXW labels to ADIF standard (err) labels\n",
    "wanted[wanted.MODE=='BPSK31']\n",
    "#SSB, CW, RTTY, TOR=AMTOR, PKT, AM, FM, SSTV, ATV, PAC=PACTOR,CLO=CLOVER\n",
    "wanted.loc[wanted.MODE == 'BPSK31', 'MODE'] = 'BPSK'\n",
    "wanted.loc[wanted.MODE == 'WEFAX', 'MODE'] = 'PKT'\n"
   ]
  },
  {
   "cell_type": "code",
   "execution_count": 124,
   "metadata": {
    "collapsed": false
   },
   "outputs": [],
   "source": [
    "#Create Date & Time\n",
    "wanted['QSO_DATE'] = wanted.QSO_DATETIME.apply(lambda x: str(x)[:8])\n",
    "wanted['TIME_ON'] = wanted.QSO_DATETIME.apply(lambda x: str(x)[8:])"
   ]
  },
  {
   "cell_type": "code",
   "execution_count": 125,
   "metadata": {
    "collapsed": false
   },
   "outputs": [],
   "source": [
    "#Remove the QSO_DATETIME field\n",
    "wanted.drop('QSO_DATETIME',axis=1,inplace=True)"
   ]
  },
  {
   "cell_type": "code",
   "execution_count": 126,
   "metadata": {
    "collapsed": false
   },
   "outputs": [
    {
     "data": {
      "text/html": [
       "<div>\n",
       "<table border=\"1\" class=\"dataframe\">\n",
       "  <thead>\n",
       "    <tr style=\"text-align: right;\">\n",
       "      <th></th>\n",
       "      <th>OPERATOR</th>\n",
       "      <th>CALL</th>\n",
       "      <th>FREQ</th>\n",
       "      <th>MODE</th>\n",
       "      <th>QSO_DATE</th>\n",
       "      <th>TIME_ON</th>\n",
       "    </tr>\n",
       "  </thead>\n",
       "  <tbody>\n",
       "    <tr>\n",
       "      <th>0</th>\n",
       "      <td>A45WG</td>\n",
       "      <td>VU2NXM</td>\n",
       "      <td>7070000</td>\n",
       "      <td>CW</td>\n",
       "      <td>20060127</td>\n",
       "      <td>180532</td>\n",
       "    </tr>\n",
       "    <tr>\n",
       "      <th>1</th>\n",
       "      <td>A45WG</td>\n",
       "      <td>UK8UC</td>\n",
       "      <td>18109000</td>\n",
       "      <td>CW</td>\n",
       "      <td>20060126</td>\n",
       "      <td>114553</td>\n",
       "    </tr>\n",
       "    <tr>\n",
       "      <th>2</th>\n",
       "      <td>A45WG</td>\n",
       "      <td>AX4AN</td>\n",
       "      <td>14070000</td>\n",
       "      <td>CW</td>\n",
       "      <td>20060125</td>\n",
       "      <td>144222</td>\n",
       "    </tr>\n",
       "    <tr>\n",
       "      <th>3</th>\n",
       "      <td>A45WG</td>\n",
       "      <td>3B8FG</td>\n",
       "      <td>14070000</td>\n",
       "      <td>CW</td>\n",
       "      <td>20060125</td>\n",
       "      <td>135845</td>\n",
       "    </tr>\n",
       "    <tr>\n",
       "      <th>4</th>\n",
       "      <td>A45WG</td>\n",
       "      <td>6O0N</td>\n",
       "      <td>21070000</td>\n",
       "      <td>CW</td>\n",
       "      <td>20060125</td>\n",
       "      <td>134852</td>\n",
       "    </tr>\n",
       "  </tbody>\n",
       "</table>\n",
       "</div>"
      ],
      "text/plain": [
       "  OPERATOR    CALL      FREQ MODE  QSO_DATE TIME_ON\n",
       "0    A45WG  VU2NXM   7070000   CW  20060127  180532\n",
       "1    A45WG   UK8UC  18109000   CW  20060126  114553\n",
       "2    A45WG   AX4AN  14070000   CW  20060125  144222\n",
       "3    A45WG   3B8FG  14070000   CW  20060125  135845\n",
       "4    A45WG    6O0N  21070000   CW  20060125  134852"
      ]
     },
     "execution_count": 126,
     "metadata": {},
     "output_type": "execute_result"
    }
   ],
   "source": [
    "wanted.head()"
   ]
  },
  {
   "cell_type": "code",
   "execution_count": 127,
   "metadata": {
    "collapsed": false
   },
   "outputs": [],
   "source": [
    "#Now we need to print to a file so we can re-import \n",
    "import pprint\n",
    "with open(\"to_load.adif\",\"wt\") as adif_file:\n",
    "    for index, row in wanted.iterrows():  \n",
    "        for field in row.index:\n",
    "            adif_file.write('<{}:{}>{}'.format(field,len(str(row[field])),row[field]))\n",
    "        adif_file.write('<eor>\\n')"
   ]
  },
  {
   "cell_type": "code",
   "execution_count": 128,
   "metadata": {
    "collapsed": false
   },
   "outputs": [],
   "source": [
    "adif_file.close()"
   ]
  },
  {
   "cell_type": "code",
   "execution_count": null,
   "metadata": {
    "collapsed": true
   },
   "outputs": [],
   "source": []
  }
 ],
 "metadata": {
  "kernelspec": {
   "display_name": "Python 3",
   "language": "python",
   "name": "python3"
  },
  "language_info": {
   "codemirror_mode": {
    "name": "ipython",
    "version": 3
   },
   "file_extension": ".py",
   "mimetype": "text/x-python",
   "name": "python",
   "nbconvert_exporter": "python",
   "pygments_lexer": "ipython3",
   "version": "3.5.2"
  }
 },
 "nbformat": 4,
 "nbformat_minor": 0
}
